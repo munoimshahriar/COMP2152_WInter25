{
 "cells": [
  {
   "cell_type": "code",
   "execution_count": null,
   "id": "fe1ac3a9-16c6-4121-b892-1acd8f8e4c59",
   "metadata": {},
   "outputs": [
    {
     "name": "stdout",
     "output_type": "stream",
     "text": [
      "Available Weapons:\n",
      "1. Fist\n",
      "2. Knife\n",
      "3. Club\n",
      "4. Gun\n",
      "5. Bomb\n",
      "6. Nuclear Bomb\n"
     ]
    }
   ],
   "source": [
    "#lab 3 solutions\n",
    "\n",
    "import random\n",
    "\n",
    "# Dice options (1 to 6)\n",
    "diceOptions = list(range(1, 7))\n",
    "\n",
    "# Weapons list\n",
    "weapons = [\"Fist\", \"Knife\", \"Club\", \"Gun\", \"Bomb\", \"Nuclear Bomb\"]\n",
    "\n",
    "# Show available weapons\n",
    "print(\"Available Weapons:\")\n",
    "for i, weapon in enumerate(weapons, start=1):\n",
    "    print(f\"{i}. {weapon}\")\n",
    "\n",
    "# Function to validate input\n",
    "def get_valid_input(prompt):\n",
    "    while True:\n",
    "        try:\n",
    "            value = int(input(prompt))\n",
    "            if 1 <= value <= 6:\n",
    "                return value\n",
    "            else:\n",
    "                print(\"Input must be an integer between 1 and 6.\")\n",
    "        except ValueError:\n",
    "            print(\"Invalid input. Please enter an integer.\")\n",
    "\n",
    "# Main battle simulation\n",
    "if __name__ == \"__main__\":\n",
    "    try:\n",
    "        # Get player and monster combat strengths\n",
    "        combatStrength = get_valid_input(\"Enter your combat Strength (1-6): \")\n",
    "        mCombatStrength = get_valid_input(\"Enter monster's combat Strength (1-6): \")\n",
    "\n",
    "        # Simulate 10 rounds of battle\n",
    "        for round_number in range(1, 20, 2):\n",
    "            hero_roll = random.choice(diceOptions)\n",
    "            monster_roll = random.choice(diceOptions)\n",
    "\n",
    "            hero_total_strength = combatStrength + hero_roll\n",
    "            monster_total_strength = mCombatStrength + monster_roll\n",
    "\n",
    "            hero_weapon = weapons[hero_roll - 1]\n",
    "            monster_weapon = weapons[monster_roll - 1]\n",
    "\n",
    "            print(f\"\\nRound {round_number}: Hero rolled {hero_roll}, Monster rolled {monster_roll}.\")\n",
    "            print(f\"Hero selected: {hero_weapon}, Monster selected: {monster_weapon}.\")\n",
    "            print(f\"Hero Total Strength: {hero_total_strength}, Monster Total Strength: {monster_total_strength}.\")\n",
    "\n",
    "            if hero_total_strength > monster_total_strength:\n",
    "                print(\"Hero wins the round!\")\n",
    "            elif hero_total_strength < monster_total_strength:\n",
    "                print(\"Monster wins the round!\")\n",
    "            else:\n",
    "                print(\"It's a tie!\")\n",
    "\n",
    "            # Break condition for \"Battle Truce\"\n",
    "            if round_number == 11:\n",
    "                print(\"\\nBattle Truce declared at Round 11. Game Over!\")\n",
    "                break\n",
    "\n",
    "    except Exception as e:\n",
    "        print(f\"An error occurred: {e}\")\n",
    "        print(\"Please ensure your environment supports the 'random' module and try again.\")\n",
    "#Munoim Shahriar"
   ]
  },
  {
   "cell_type": "code",
   "execution_count": null,
   "id": "e3074fab-10c8-4884-99d6-dfd263acf368",
   "metadata": {},
   "outputs": [],
   "source": []
  }
 ],
 "metadata": {
  "kernelspec": {
   "display_name": "Python 3 (ipykernel)",
   "language": "python",
   "name": "python3"
  },
  "language_info": {
   "codemirror_mode": {
    "name": "ipython",
    "version": 3
   },
   "file_extension": ".py",
   "mimetype": "text/x-python",
   "name": "python",
   "nbconvert_exporter": "python",
   "pygments_lexer": "ipython3",
   "version": "3.9.21"
  }
 },
 "nbformat": 4,
 "nbformat_minor": 5
}
